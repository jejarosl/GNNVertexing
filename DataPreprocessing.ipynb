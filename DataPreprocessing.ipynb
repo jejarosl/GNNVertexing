{
 "cells": [
  {
   "cell_type": "code",
   "execution_count": 1,
   "id": "888b6b6f",
   "metadata": {},
   "outputs": [
    {
     "name": "stdout",
     "output_type": "stream",
     "text": [
      "The scikit-learn version is 1.2.0.\n",
      "Python version\n",
      "3.9.12 (main, Jun  7 2022, 16:09:12) \n",
      "[GCC 11.2.0]\n",
      "Version info.\n",
      "sys.version_info(major=3, minor=9, micro=12, releaselevel='final', serial=0)\n"
     ]
    }
   ],
   "source": [
    "import sys\n",
    "#print(sys.path)\n",
    "sys.path.insert(0, '/eos/user/j/jejarosl/.local/lib/python3.9/site-packages')\n",
    "\n",
    "import sklearn\n",
    "print('The scikit-learn version is {}.'.format(sklearn.__version__))\n",
    "print(\"Python version\")\n",
    "print (sys.version)\n",
    "print(\"Version info.\")\n",
    "print (sys.version_info)"
   ]
  },
  {
   "cell_type": "code",
   "execution_count": 2,
   "id": "2b37a06a",
   "metadata": {},
   "outputs": [
    {
     "name": "stderr",
     "output_type": "stream",
     "text": [
      "2024-03-05 10:43:01.073785: I tensorflow/core/util/port.cc:110] oneDNN custom operations are on. You may see slightly different numerical results due to floating-point round-off errors from different computation orders. To turn them off, set the environment variable `TF_ENABLE_ONEDNN_OPTS=0`.\n",
      "2024-03-05 10:43:01.155574: I tensorflow/core/platform/cpu_feature_guard.cc:182] This TensorFlow binary is optimized to use available CPU instructions in performance-critical operations.\n",
      "To enable the following instructions: AVX2 AVX512F AVX512_VNNI FMA, in other operations, rebuild TensorFlow with the appropriate compiler flags.\n"
     ]
    }
   ],
   "source": [
    "import time\n",
    "import glob\n",
    "import uproot\n",
    "import numpy as np\n",
    "import awkward as ak\n",
    "import pickle\n",
    "from tqdm import tqdm\n",
    "\n",
    "import matplotlib\n",
    "import matplotlib.colors\n",
    "import matplotlib.pyplot as plt\n",
    "from matplotlib import cm\n",
    "import networkx as nx\n",
    "import pandas as pd\n",
    "from numba import jit\n",
    "\n",
    "import torch\n",
    "from torch import nn\n",
    "import torch.nn.functional as F\n",
    "from torch_geometric.loader import DataLoader\n",
    "import torch_geometric as pyg\n",
    "from sklearn.manifold import TSNE\n",
    "from sklearn import metrics\n",
    "\n",
    "from sklearn.metrics import DetCurveDisplay, RocCurveDisplay, PrecisionRecallDisplay\n",
    "from sklearn.utils.class_weight import compute_sample_weight\n",
    "from sklearn.metrics import class_likelihood_ratios, precision_recall_fscore_support\n",
    "\n",
    "\n",
    "%matplotlib inline\n",
    "from matplotlib import rc\n",
    "matplotlib.rcParams['mathtext.fontset'] = 'stix'\n",
    "matplotlib.rcParams['font.family'] = 'STIXGeneral'"
   ]
  },
  {
   "cell_type": "code",
   "execution_count": 3,
   "id": "7cc6d47a",
   "metadata": {},
   "outputs": [],
   "source": [
    "THRESHOLD_Z = 0.3\n",
    "\n",
    "def mkdir_p(mypath):\n",
    "    '''Function to create a new directory, if it not already exist.\n",
    "       Args:\n",
    "           mypath : directory path\n",
    "    '''\n",
    "    from errno import EEXIST\n",
    "    from os import makedirs, path\n",
    "    try:\n",
    "        makedirs(mypath)\n",
    "    except OSError as exc:\n",
    "        if not (exc.errno == EEXIST and path.isdir(mypath)):\n",
    "            raise\n",
    "\n",
    "def computeEdgeAndLabels(track_data, edges, edges_labels, edge_features):\n",
    "    '''Compute the truth graph'''\n",
    "    print(\"Building the graph\")\n",
    "\n",
    "    n_tracks = len(track_data.gnn_pt)\n",
    "    z_pca = np.array(track_data.gnn_z_pca)\n",
    "    sim_vertex_ID = np.array(track_data.gnn_sim_vertex_ID)\n",
    "    gnn_pt = np.array(track_data.gnn_pt)\n",
    "    t_pi = np.array(track_data.gnn_t_pi)\n",
    "    t_k = np.array(track_data.gnn_t_k)\n",
    "    t_p = np.array(track_data.gnn_t_p)\n",
    "    dz = np.array(track_data.gnn_dz)\n",
    "\n",
    "    for i in tqdm(range(n_tracks)):\n",
    "        z_diff = np.abs(z_pca[i+1:] - z_pca[i])\n",
    "        ids = np.where(z_diff < THRESHOLD_Z)[0]\n",
    "        indices = ids + i + 1\n",
    "\n",
    "        edges.extend([(j, i) for j in indices])\n",
    "\n",
    "        labels = (sim_vertex_ID[i] == sim_vertex_ID[indices]).astype(int)\n",
    "        edges_labels.extend(labels)\n",
    "        \n",
    "        pt_diff = np.abs(gnn_pt[indices] - gnn_pt[i])\n",
    "        time_comps = np.array([np.abs(t_pi[indices] - t_pi[i]),\n",
    "                      np.abs(t_k[indices] - t_k[i]),\n",
    "                      np.abs(t_p[indices] - t_p[i]),\n",
    "                      \n",
    "                      np.abs(t_pi[indices] - t_k[i]),\n",
    "                      np.abs(t_pi[indices] - t_p[i]),\n",
    "                      \n",
    "                      np.abs(t_k[indices] - t_pi[i]),\n",
    "                      np.abs(t_k[indices] - t_p[i]),\n",
    "                      \n",
    "                      np.abs(t_p[indices] - t_k[i]),\n",
    "                      np.abs(t_p[indices] - t_pi[i])])\n",
    "                      \n",
    "        z_diff = z_diff[ids]\n",
    "        \n",
    "        for k, ind in enumerate(indices):\n",
    "            dz_significance = (z_pca[i] - z_pca[ind]) / np.sqrt(dz[i]**2 + dz[ind]**2)\n",
    "            edge_features.append([pt_diff[k], z_diff[k], dz_significance] + list(time_comps[:, k]))"
   ]
  },
  {
   "cell_type": "code",
   "execution_count": 4,
   "id": "f6426591",
   "metadata": {},
   "outputs": [],
   "source": [
    "def set_small_to_zero(a, eps=1e-8):\n",
    "    a[np.abs(a) < eps] = 0\n",
    "    return a\n",
    "\n",
    "def remap_PIDs(pids):\n",
    "    \"\"\"\n",
    "    Remaps particle IDs to a simplified classification scheme.\n",
    "    \n",
    "    Args:\n",
    "    - pids (list): List of particle IDs to be remapped.\n",
    "    \n",
    "    Returns:\n",
    "    - remapped_pids (list): List of remapped particle IDs.\n",
    "    \"\"\"\n",
    "    # Mapping of particle IDs to simplified classification\n",
    "    pid_map = {11: 0, 13: 0, 211: 0, 321: 1, 2212: 2, 3112: 2}\n",
    "    \n",
    "    # Remap PIDs using the pid_map dictionary\n",
    "    remapped_pids = [pid_map.get(pid, -1) for pid in pids]\n",
    "    \n",
    "    return remapped_pids\n",
    "\n",
    "def process_files(input_folder, output_folder, n_files=100000, offset=0):\n",
    "    files = glob.glob(f\"{input_folder}/*.root\")\n",
    "    print(f\"Number of files: {len(files)}\")\n",
    "\n",
    "    X, Edges, Edges_labels, Edge_features = [], [], [], []\n",
    "    PIDs_truth, Times_truth = [], []\n",
    "\n",
    "    mkdir_p(output_folder)\n",
    "\n",
    "    for i_file, file in enumerate(files[offset:offset+n_files]):\n",
    "        \n",
    "        print('\\nProcessing file {} '.format(file))\n",
    "        try:\n",
    "            with uproot.open(file) as f:\n",
    "                tree = f[\"vertices4DValid\"]\n",
    "                \n",
    "                for ev, key in enumerate(tree):\n",
    "                \n",
    "                    t = tree[key]\n",
    "                    track_data = t.arrays([\"gnn_weight\", \"gnn_pt\", \"gnn_eta\", \"gnn_phi\", \"gnn_z_pca\",\n",
    "                                            \"gnn_t_pi\", \"gnn_t_k\", \"gnn_t_p\", \"gnn_mva_qual\", 'gnn_btlMatchChi2',\n",
    "                                            'gnn_btlMatchTimeChi2', 'gnn_etlMatchChi2', \"gnn_sim_vertex_ID\",\n",
    "                                            'gnn_etlMatchTimeChi2', 'gnn_pathLength', 'gnn_npixBarrel', 'gnn_npixEndcap',\n",
    "                                            'gnn_mtdTime', 'gnn_is_matched_tp', 'gnn_dz', 'gnn_sigma_t0safe'])\n",
    "                    truth_data = t.arrays(['gnn_tp_tsim', 'gnn_tp_tEst', 'gnn_tp_pdgId'])\n",
    "\n",
    "                    number_of_tracks = len(track_data.gnn_weight)\n",
    "                    print(f\"{i_file}_{ev} : Have {number_of_tracks} tracks in the file\")\n",
    "                    \n",
    "                    start = time.time()\n",
    "\n",
    "                    x_ev = np.array([track_data.gnn_weight,\n",
    "                                     track_data.gnn_pt,\n",
    "                                     track_data.gnn_eta,\n",
    "                                     track_data.gnn_phi,\n",
    "                                     track_data.gnn_z_pca,\n",
    "                                     track_data.gnn_t_pi,\n",
    "                                     track_data.gnn_t_k,\n",
    "                                     track_data.gnn_t_p,\n",
    "                                     track_data.gnn_mva_qual,\n",
    "                                     track_data.gnn_btlMatchChi2,\n",
    "                                     track_data.gnn_btlMatchTimeChi2,\n",
    "                                     track_data.gnn_etlMatchChi2,\n",
    "                                     track_data.gnn_etlMatchTimeChi2,\n",
    "                                     track_data.gnn_pathLength,\n",
    "                                     track_data.gnn_npixBarrel,\n",
    "                                     track_data.gnn_npixEndcap,\n",
    "                                     track_data.gnn_mtdTime,\n",
    "                                     track_data.gnn_dz,\n",
    "                                     track_data.gnn_sigma_t0safe], \n",
    "                                    dtype=np.float32)\n",
    "\n",
    "                    x_ev = set_small_to_zero(x_ev, eps=1e-5)\n",
    "\n",
    "                    print(f\"{i_file}_{ev} : Got the track properties\")\n",
    "\n",
    "                    X.append(x_ev)\n",
    "\n",
    "                    edges, edges_labels, edge_features = [], [], []\n",
    "                    pids, times = truth_data.gnn_tp_pdgId, truth_data.gnn_tp_tEst\n",
    "\n",
    "                    # Call the function to compute edges and labels\n",
    "                    computeEdgeAndLabels(track_data, edges, edges_labels, edge_features)\n",
    "                    \n",
    "                    print(len(edge_features), len(edge_features[0]))\n",
    "\n",
    "                    ed_np = np.array(edges).T\n",
    "                    Edges.append(ed_np)\n",
    "                    PIDs_truth.append(pids)\n",
    "                    Times_truth.append(times)\n",
    "                    Edges_labels.append(edges_labels)\n",
    "                    Edge_features.append(edge_features)\n",
    "                    \n",
    "                    \n",
    "                    if (ev % 10 == 0 and ev != 0) or ev == len(tree.keys())-1:\n",
    "                        stop = time.time()\n",
    "                        print(f\"t = {stop - start} ... Saving the pickle data for {i_file}_{ev}\")\n",
    "\n",
    "                        # Save the processed data into pickle files\n",
    "                        with open(f\"{output_folder}{i_file}_{ev}_node_features.pkl\", \"wb\") as fp:\n",
    "                            pickle.dump(X, fp)\n",
    "                        with open(f\"{output_folder}{i_file}_{ev}_edges.pkl\", \"wb\") as fp:\n",
    "                            pickle.dump(Edges, fp)\n",
    "                        with open(f\"{output_folder}{i_file}_{ev}_edges_labels.pkl\", \"wb\") as fp:\n",
    "                            pickle.dump(Edges_labels, fp)\n",
    "                        with open(f\"{output_folder}{i_file}_{ev}_edge_features.pkl\", \"wb\") as fp:\n",
    "                            pickle.dump(Edge_features, fp)\n",
    "                        with open(f\"{output_folder}{i_file}_{ev}_times_truth.pkl\", \"wb\") as fp:\n",
    "                            pickle.dump(Times_truth, fp)\n",
    "                        with open(f\"{output_folder}{i_file}_{ev}_PID_truth.pkl\", \"wb\") as fp:\n",
    "                            pickle.dump(PIDs_truth, fp)\n",
    "                            \n",
    "                        X, Edges, Edges_labels, Edge_features = [], [], [], []\n",
    "                        PIDs_truth, Times_truth = [], []\n",
    "\n",
    "\n",
    "        except Exception as e:\n",
    "            print(f\"Error: {e}\")\n",
    "            continue\n",
    "\n",
    "\n",
    "    return number_of_tracks, Edges, PIDs_truth, Times_truth, Edges_labels, Edge_features"
   ]
  },
  {
   "cell_type": "code",
   "execution_count": null,
   "id": "a00d8ede",
   "metadata": {},
   "outputs": [
    {
     "name": "stdout",
     "output_type": "stream",
     "text": [
      "Number of files: 13\n",
      "\n",
      "Processing file /eos/user/k/kdeleo/Vertex_GNN_inputs/files_PU200/file_1876c212.root \n",
      "0_0 : Have 3339 tracks in the file\n",
      "0_0 : Got the track properties\n",
      "Building the graph\n"
     ]
    },
    {
     "name": "stderr",
     "output_type": "stream",
     "text": [
      "100%|██████████| 3339/3339 [00:02<00:00, 1226.12it/s]\n"
     ]
    },
    {
     "name": "stdout",
     "output_type": "stream",
     "text": [
      "245197 12\n",
      "0_1 : Have 3179 tracks in the file\n",
      "0_1 : Got the track properties\n",
      "Building the graph\n"
     ]
    },
    {
     "name": "stderr",
     "output_type": "stream",
     "text": [
      "100%|██████████| 3179/3179 [00:02<00:00, 1140.55it/s]\n"
     ]
    },
    {
     "name": "stdout",
     "output_type": "stream",
     "text": [
      "249275 12\n",
      "0_2 : Have 3212 tracks in the file\n",
      "0_2 : Got the track properties\n",
      "Building the graph\n"
     ]
    },
    {
     "name": "stderr",
     "output_type": "stream",
     "text": [
      "100%|██████████| 3212/3212 [00:02<00:00, 1469.82it/s]\n"
     ]
    },
    {
     "name": "stdout",
     "output_type": "stream",
     "text": [
      "241952 12\n",
      "0_3 : Have 3540 tracks in the file\n",
      "0_3 : Got the track properties\n",
      "Building the graph\n"
     ]
    },
    {
     "name": "stderr",
     "output_type": "stream",
     "text": [
      "100%|██████████| 3540/3540 [00:03<00:00, 904.51it/s] \n"
     ]
    },
    {
     "name": "stdout",
     "output_type": "stream",
     "text": [
      "377700 12\n",
      "0_4 : Have 3510 tracks in the file\n",
      "0_4 : Got the track properties\n",
      "Building the graph\n"
     ]
    },
    {
     "name": "stderr",
     "output_type": "stream",
     "text": [
      "100%|██████████| 3510/3510 [00:03<00:00, 1044.85it/s]\n"
     ]
    },
    {
     "name": "stdout",
     "output_type": "stream",
     "text": [
      "282943 12\n",
      "0_5 : Have 3156 tracks in the file\n",
      "0_5 : Got the track properties\n",
      "Building the graph\n"
     ]
    },
    {
     "name": "stderr",
     "output_type": "stream",
     "text": [
      "100%|██████████| 3156/3156 [00:03<00:00, 940.73it/s] \n"
     ]
    },
    {
     "name": "stdout",
     "output_type": "stream",
     "text": [
      "260124 12\n",
      "0_6 : Have 3963 tracks in the file\n",
      "0_6 : Got the track properties\n",
      "Building the graph\n"
     ]
    },
    {
     "name": "stderr",
     "output_type": "stream",
     "text": [
      "100%|██████████| 3963/3963 [00:02<00:00, 1358.20it/s]\n"
     ]
    },
    {
     "name": "stdout",
     "output_type": "stream",
     "text": [
      "325717 12\n",
      "0_7 : Have 3439 tracks in the file\n",
      "0_7 : Got the track properties\n",
      "Building the graph\n"
     ]
    },
    {
     "name": "stderr",
     "output_type": "stream",
     "text": [
      "100%|██████████| 3439/3439 [00:02<00:00, 1446.61it/s]\n"
     ]
    },
    {
     "name": "stdout",
     "output_type": "stream",
     "text": [
      "249893 12\n",
      "0_8 : Have 3393 tracks in the file\n",
      "0_8 : Got the track properties\n",
      "Building the graph\n"
     ]
    },
    {
     "name": "stderr",
     "output_type": "stream",
     "text": [
      "100%|██████████| 3393/3393 [00:04<00:00, 831.99it/s] \n"
     ]
    },
    {
     "name": "stdout",
     "output_type": "stream",
     "text": [
      "304652 12\n",
      "0_9 : Have 3584 tracks in the file\n",
      "0_9 : Got the track properties\n",
      "Building the graph\n"
     ]
    },
    {
     "name": "stderr",
     "output_type": "stream",
     "text": [
      "100%|██████████| 3584/3584 [00:02<00:00, 1428.13it/s]\n"
     ]
    },
    {
     "name": "stdout",
     "output_type": "stream",
     "text": [
      "283860 12\n",
      "0_10 : Have 3690 tracks in the file\n",
      "0_10 : Got the track properties\n",
      "Building the graph\n"
     ]
    },
    {
     "name": "stderr",
     "output_type": "stream",
     "text": [
      "100%|██████████| 3690/3690 [00:04<00:00, 834.84it/s] \n"
     ]
    },
    {
     "name": "stdout",
     "output_type": "stream",
     "text": [
      "333020 12\n",
      "t = 4.593853235244751 ... Saving the pickle data for 0_10\n",
      "0_11 : Have 3949 tracks in the file\n",
      "0_11 : Got the track properties\n",
      "Building the graph\n"
     ]
    },
    {
     "name": "stderr",
     "output_type": "stream",
     "text": [
      "100%|██████████| 3949/3949 [00:03<00:00, 1242.29it/s]\n"
     ]
    },
    {
     "name": "stdout",
     "output_type": "stream",
     "text": [
      "389764 12\n",
      "0_12 : Have 3127 tracks in the file\n",
      "0_12 : Got the track properties\n",
      "Building the graph\n"
     ]
    },
    {
     "name": "stderr",
     "output_type": "stream",
     "text": [
      "100%|██████████| 3127/3127 [00:01<00:00, 1565.95it/s]\n"
     ]
    },
    {
     "name": "stdout",
     "output_type": "stream",
     "text": [
      "224875 12\n",
      "0_13 : Have 2742 tracks in the file\n",
      "0_13 : Got the track properties\n",
      "Building the graph\n"
     ]
    },
    {
     "name": "stderr",
     "output_type": "stream",
     "text": [
      "100%|██████████| 2742/2742 [00:01<00:00, 1668.95it/s]\n"
     ]
    },
    {
     "name": "stdout",
     "output_type": "stream",
     "text": [
      "178620 12\n",
      "0_14 : Have 3247 tracks in the file\n",
      "0_14 : Got the track properties\n",
      "Building the graph\n"
     ]
    },
    {
     "name": "stderr",
     "output_type": "stream",
     "text": [
      "100%|██████████| 3247/3247 [00:03<00:00, 1022.93it/s]\n"
     ]
    },
    {
     "name": "stdout",
     "output_type": "stream",
     "text": [
      "279065 12\n",
      "0_15 : Have 4121 tracks in the file\n",
      "0_15 : Got the track properties\n",
      "Building the graph\n"
     ]
    },
    {
     "name": "stderr",
     "output_type": "stream",
     "text": [
      "100%|██████████| 4121/4121 [00:04<00:00, 966.49it/s] \n"
     ]
    },
    {
     "name": "stdout",
     "output_type": "stream",
     "text": [
      "402837 12\n",
      "0_16 : Have 3862 tracks in the file\n",
      "0_16 : Got the track properties\n",
      "Building the graph\n"
     ]
    },
    {
     "name": "stderr",
     "output_type": "stream",
     "text": [
      "100%|██████████| 3862/3862 [00:04<00:00, 928.31it/s] \n"
     ]
    },
    {
     "name": "stdout",
     "output_type": "stream",
     "text": [
      "363075 12\n",
      "0_17 : Have 3125 tracks in the file\n",
      "0_17 : Got the track properties\n",
      "Building the graph\n"
     ]
    },
    {
     "name": "stderr",
     "output_type": "stream",
     "text": [
      "100%|██████████| 3125/3125 [00:02<00:00, 1344.84it/s]\n"
     ]
    },
    {
     "name": "stdout",
     "output_type": "stream",
     "text": [
      "274692 12\n",
      "0_18 : Have 3826 tracks in the file\n",
      "0_18 : Got the track properties\n",
      "Building the graph\n"
     ]
    },
    {
     "name": "stderr",
     "output_type": "stream",
     "text": [
      "100%|██████████| 3826/3826 [00:04<00:00, 893.96it/s] \n"
     ]
    },
    {
     "name": "stdout",
     "output_type": "stream",
     "text": [
      "347774 12\n",
      "0_19 : Have 3440 tracks in the file\n",
      "0_19 : Got the track properties\n",
      "Building the graph\n"
     ]
    },
    {
     "name": "stderr",
     "output_type": "stream",
     "text": [
      "100%|██████████| 3440/3440 [00:02<00:00, 1405.62it/s]\n"
     ]
    },
    {
     "name": "stdout",
     "output_type": "stream",
     "text": [
      "281652 12\n",
      "0_20 : Have 3035 tracks in the file\n",
      "0_20 : Got the track properties\n",
      "Building the graph\n"
     ]
    },
    {
     "name": "stderr",
     "output_type": "stream",
     "text": [
      "100%|██████████| 3035/3035 [00:02<00:00, 1460.32it/s]\n"
     ]
    },
    {
     "name": "stdout",
     "output_type": "stream",
     "text": [
      "231880 12\n",
      "t = 2.2058727741241455 ... Saving the pickle data for 0_20\n",
      "0_21 : Have 3363 tracks in the file\n",
      "0_21 : Got the track properties\n",
      "Building the graph\n"
     ]
    },
    {
     "name": "stderr",
     "output_type": "stream",
     "text": [
      "100%|██████████| 3363/3363 [00:02<00:00, 1165.03it/s]\n"
     ]
    },
    {
     "name": "stdout",
     "output_type": "stream",
     "text": [
      "271362 12\n",
      "0_22 : Have 2867 tracks in the file\n",
      "0_22 : Got the track properties\n",
      "Building the graph\n"
     ]
    },
    {
     "name": "stderr",
     "output_type": "stream",
     "text": [
      "100%|██████████| 2867/2867 [00:02<00:00, 1390.78it/s]\n"
     ]
    },
    {
     "name": "stdout",
     "output_type": "stream",
     "text": [
      "229144 12\n",
      "0_23 : Have 3092 tracks in the file\n",
      "0_23 : Got the track properties\n",
      "Building the graph\n"
     ]
    },
    {
     "name": "stderr",
     "output_type": "stream",
     "text": [
      "100%|██████████| 3092/3092 [00:02<00:00, 1074.83it/s]\n"
     ]
    },
    {
     "name": "stdout",
     "output_type": "stream",
     "text": [
      "261178 12\n",
      "0_24 : Have 3123 tracks in the file\n",
      "0_24 : Got the track properties\n",
      "Building the graph\n"
     ]
    },
    {
     "name": "stderr",
     "output_type": "stream",
     "text": [
      "100%|██████████| 3123/3123 [00:02<00:00, 1176.62it/s]\n"
     ]
    },
    {
     "name": "stdout",
     "output_type": "stream",
     "text": [
      "211209 12\n",
      "0_25 : Have 3349 tracks in the file\n",
      "0_25 : Got the track properties\n",
      "Building the graph\n"
     ]
    },
    {
     "name": "stderr",
     "output_type": "stream",
     "text": [
      "100%|██████████| 3349/3349 [00:02<00:00, 1338.30it/s]\n"
     ]
    },
    {
     "name": "stdout",
     "output_type": "stream",
     "text": [
      "291158 12\n",
      "0_26 : Have 2772 tracks in the file\n",
      "0_26 : Got the track properties\n",
      "Building the graph\n"
     ]
    },
    {
     "name": "stderr",
     "output_type": "stream",
     "text": [
      "100%|██████████| 2772/2772 [00:02<00:00, 969.24it/s] \n"
     ]
    },
    {
     "name": "stdout",
     "output_type": "stream",
     "text": [
      "221436 12\n",
      "0_27 : Have 3648 tracks in the file\n",
      "0_27 : Got the track properties\n",
      "Building the graph\n"
     ]
    },
    {
     "name": "stderr",
     "output_type": "stream",
     "text": [
      "100%|██████████| 3648/3648 [00:02<00:00, 1238.40it/s]\n"
     ]
    },
    {
     "name": "stdout",
     "output_type": "stream",
     "text": [
      "345795 12\n",
      "0_28 : Have 3452 tracks in the file\n",
      "0_28 : Got the track properties\n",
      "Building the graph\n"
     ]
    },
    {
     "name": "stderr",
     "output_type": "stream",
     "text": [
      "100%|██████████| 3452/3452 [00:03<00:00, 938.44it/s] \n"
     ]
    },
    {
     "name": "stdout",
     "output_type": "stream",
     "text": [
      "297151 12\n",
      "0_29 : Have 2709 tracks in the file\n",
      "0_29 : Got the track properties\n",
      "Building the graph\n"
     ]
    },
    {
     "name": "stderr",
     "output_type": "stream",
     "text": [
      "100%|██████████| 2709/2709 [00:01<00:00, 1480.69it/s]\n"
     ]
    },
    {
     "name": "stdout",
     "output_type": "stream",
     "text": [
      "202839 12\n",
      "0_30 : Have 3854 tracks in the file\n",
      "0_30 : Got the track properties\n",
      "Building the graph\n"
     ]
    },
    {
     "name": "stderr",
     "output_type": "stream",
     "text": [
      "100%|██████████| 3854/3854 [00:04<00:00, 868.05it/s] \n"
     ]
    },
    {
     "name": "stdout",
     "output_type": "stream",
     "text": [
      "337127 12\n",
      "t = 4.603540420532227 ... Saving the pickle data for 0_30\n"
     ]
    }
   ],
   "source": [
    "input_folder = \"/eos/user/k/kdeleo/Vertex_GNN_inputs/files_PU200/\"\n",
    "output_folder  = './dataset_tracks/'\n",
    "number_of_tracks, Edges, PIDs_truth, Times_truth, Edges_labels, Edge_features = process_files(input_folder, output_folder)"
   ]
  },
  {
   "cell_type": "code",
   "execution_count": null,
   "id": "44da2fee",
   "metadata": {},
   "outputs": [],
   "source": [
    "print(f\"Getting {Edges[0].shape[1]} edges\")\n",
    "print(f\"For a fully connected graph we would have {number_of_tracks**2} edges\")"
   ]
  },
  {
   "cell_type": "code",
   "execution_count": null,
   "id": "5e8d9f59",
   "metadata": {},
   "outputs": [],
   "source": [
    "# plot distribution of labels\n",
    "\n",
    "plt.hist(Edges_labels[0], bins=10, color='skyblue', edgecolor='black')\n",
    "\n",
    "# Adding labels and title\n",
    "plt.xlabel('Values')\n",
    "plt.ylabel('Frequency')\n",
    "plt.title('Histogram of false and true edges')\n",
    "\n",
    "# Adding grid\n",
    "plt.grid(True, linestyle='--', alpha=0.7)\n",
    "\n",
    "# Show plot\n",
    "plt.show()"
   ]
  },
  {
   "cell_type": "code",
   "execution_count": null,
   "id": "c5f28537",
   "metadata": {},
   "outputs": [],
   "source": [
    "plt.hist(Times_truth[0], bins=50, color='skyblue', edgecolor='black')\n",
    "\n",
    "# Adding labels and title\n",
    "plt.xlabel('Values')\n",
    "plt.ylabel('Frequency')\n",
    "plt.title('Histogram of times')\n",
    "\n",
    "# Adding grid\n",
    "plt.grid(True, linestyle='--', alpha=0.7)\n",
    "\n",
    "# Show plot\n",
    "# Set y-axis to log scale\n",
    "plt.yscale('log')\n",
    "\n",
    "plt.show()"
   ]
  },
  {
   "cell_type": "code",
   "execution_count": null,
   "id": "7070977e",
   "metadata": {},
   "outputs": [],
   "source": [
    "plt.hist(PIDs_truth[0], bins=50, color='skyblue', edgecolor='black')\n",
    "\n",
    "# Adding labels and title\n",
    "plt.xlabel('Values')\n",
    "plt.ylabel('Frequency')\n",
    "plt.title('Histogram of PIDs')\n",
    "\n",
    "# Adding grid\n",
    "plt.grid(True, linestyle='--', alpha=0.7)\n",
    "# Set y-axis to log scale\n",
    "plt.yscale('log')\n",
    "\n",
    "# Show plot\n",
    "plt.show()"
   ]
  },
  {
   "cell_type": "code",
   "execution_count": null,
   "id": "93bcb773",
   "metadata": {},
   "outputs": [],
   "source": [
    "np.unique(PIDs_truth[0])"
   ]
  },
  {
   "cell_type": "code",
   "execution_count": null,
   "id": "9037a343",
   "metadata": {},
   "outputs": [],
   "source": [
    "pids_remaped = remap_PIDs(PIDs_truth[0])\n",
    "plt.hist(pids_remaped, bins=10, color='skyblue', edgecolor='black')\n",
    "\n",
    "# Adding labels and title\n",
    "plt.xlabel('Values')\n",
    "plt.ylabel('Frequency')\n",
    "plt.title('Histogram of PIDs')\n",
    "\n",
    "# Adding grid\n",
    "plt.grid(True, linestyle='--', alpha=0.7)\n",
    "# Set y-axis to log scale\n",
    "plt.yscale('log')\n",
    "\n",
    "# Show plot\n",
    "plt.show()"
   ]
  },
  {
   "cell_type": "code",
   "execution_count": null,
   "id": "4166a3d7",
   "metadata": {},
   "outputs": [],
   "source": []
  }
 ],
 "metadata": {
  "@webio": {
   "lastCommId": null,
   "lastKernelId": null
  },
  "kernelspec": {
   "display_name": "Python 3",
   "language": "python",
   "name": "python3"
  },
  "language_info": {
   "codemirror_mode": {
    "name": "ipython",
    "version": 3
   },
   "file_extension": ".py",
   "mimetype": "text/x-python",
   "name": "python",
   "nbconvert_exporter": "python",
   "pygments_lexer": "ipython3",
   "version": "3.9.12"
  }
 },
 "nbformat": 4,
 "nbformat_minor": 5
}
